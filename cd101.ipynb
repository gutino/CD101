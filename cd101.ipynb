{
 "cells": [
  {
   "cell_type": "markdown",
   "metadata": {},
   "source": [
    "## To do\n",
    "- Fazer avaliação de modelo."
   ]
  },
  {
   "cell_type": "code",
   "execution_count": 47,
   "metadata": {},
   "outputs": [],
   "source": [
    "import numpy as np\n",
    "import pandas as pd\n",
    "import matplotlib.pyplot as plt\n",
    "from mpl_toolkits.mplot3d import Axes3D\n",
    "%matplotlib inline\n",
    "\n",
    "from sklearn.datasets import load_iris"
   ]
  },
  {
   "cell_type": "markdown",
   "metadata": {},
   "source": [
    "# Classificação"
   ]
  },
  {
   "cell_type": "markdown",
   "metadata": {},
   "source": [
    "### Naive Bayes\n",
    "\n",
    "- O **Gaussino** assume que a distribuição P(Xi|Ck) é uma **normal** com parâmetros mi e desvio padrão estimados via máxima verossimilhança, ou seja, **dados contínuos**.\n",
    "- O **Bernoulli** assume que os dados sejam **binários**.\n",
    "- O **Multinomial** assume que os dados sejam **discretos** porém não necessariamente binários, com **relação de ordem**, por exemplo, contagem de palavras.\n",
    "\n",
    "OBS.: Cada P(Xi|Ck) é uma distribuição, sejam ela gaussiana, bernoulli ou multinomial."
   ]
  },
  {
   "cell_type": "code",
   "execution_count": 5,
   "metadata": {},
   "outputs": [],
   "source": [
    "from sklearn.naive_bayes import GaussianNB, MultinomialNB, BernoulliNB"
   ]
  },
  {
   "cell_type": "code",
   "execution_count": 6,
   "metadata": {},
   "outputs": [],
   "source": [
    "data = load_iris(return_X_y=True)\n",
    "df = pd.DataFrame(data[0], columns=['Sepal Length', 'Sepal Width', 'Petal Length', 'Petal Width'])\n",
    "df['target'] = data[1]"
   ]
  },
  {
   "cell_type": "code",
   "execution_count": 7,
   "metadata": {},
   "outputs": [
    {
     "data": {
      "text/html": [
       "<div>\n",
       "<style scoped>\n",
       "    .dataframe tbody tr th:only-of-type {\n",
       "        vertical-align: middle;\n",
       "    }\n",
       "\n",
       "    .dataframe tbody tr th {\n",
       "        vertical-align: top;\n",
       "    }\n",
       "\n",
       "    .dataframe thead th {\n",
       "        text-align: right;\n",
       "    }\n",
       "</style>\n",
       "<table border=\"1\" class=\"dataframe\">\n",
       "  <thead>\n",
       "    <tr style=\"text-align: right;\">\n",
       "      <th></th>\n",
       "      <th>Sepal Length</th>\n",
       "      <th>Sepal Width</th>\n",
       "      <th>Petal Length</th>\n",
       "      <th>Petal Width</th>\n",
       "      <th>target</th>\n",
       "    </tr>\n",
       "  </thead>\n",
       "  <tbody>\n",
       "    <tr>\n",
       "      <th>12</th>\n",
       "      <td>4.8</td>\n",
       "      <td>3.0</td>\n",
       "      <td>1.4</td>\n",
       "      <td>0.1</td>\n",
       "      <td>0</td>\n",
       "    </tr>\n",
       "    <tr>\n",
       "      <th>126</th>\n",
       "      <td>6.2</td>\n",
       "      <td>2.8</td>\n",
       "      <td>4.8</td>\n",
       "      <td>1.8</td>\n",
       "      <td>2</td>\n",
       "    </tr>\n",
       "    <tr>\n",
       "      <th>75</th>\n",
       "      <td>6.6</td>\n",
       "      <td>3.0</td>\n",
       "      <td>4.4</td>\n",
       "      <td>1.4</td>\n",
       "      <td>1</td>\n",
       "    </tr>\n",
       "    <tr>\n",
       "      <th>138</th>\n",
       "      <td>6.0</td>\n",
       "      <td>3.0</td>\n",
       "      <td>4.8</td>\n",
       "      <td>1.8</td>\n",
       "      <td>2</td>\n",
       "    </tr>\n",
       "    <tr>\n",
       "      <th>22</th>\n",
       "      <td>4.6</td>\n",
       "      <td>3.6</td>\n",
       "      <td>1.0</td>\n",
       "      <td>0.2</td>\n",
       "      <td>0</td>\n",
       "    </tr>\n",
       "  </tbody>\n",
       "</table>\n",
       "</div>"
      ],
      "text/plain": [
       "     Sepal Length  Sepal Width  Petal Length  Petal Width  target\n",
       "12            4.8          3.0           1.4          0.1       0\n",
       "126           6.2          2.8           4.8          1.8       2\n",
       "75            6.6          3.0           4.4          1.4       1\n",
       "138           6.0          3.0           4.8          1.8       2\n",
       "22            4.6          3.6           1.0          0.2       0"
      ]
     },
     "execution_count": 7,
     "metadata": {},
     "output_type": "execute_result"
    }
   ],
   "source": [
    "df.sample(5)"
   ]
  },
  {
   "cell_type": "code",
   "execution_count": 8,
   "metadata": {},
   "outputs": [
    {
     "data": {
      "text/html": [
       "<div>\n",
       "<style scoped>\n",
       "    .dataframe tbody tr th:only-of-type {\n",
       "        vertical-align: middle;\n",
       "    }\n",
       "\n",
       "    .dataframe tbody tr th {\n",
       "        vertical-align: top;\n",
       "    }\n",
       "\n",
       "    .dataframe thead th {\n",
       "        text-align: right;\n",
       "    }\n",
       "</style>\n",
       "<table border=\"1\" class=\"dataframe\">\n",
       "  <thead>\n",
       "    <tr style=\"text-align: right;\">\n",
       "      <th></th>\n",
       "      <th>target</th>\n",
       "      <th>predict_naive</th>\n",
       "    </tr>\n",
       "  </thead>\n",
       "  <tbody>\n",
       "    <tr>\n",
       "      <th>109</th>\n",
       "      <td>2</td>\n",
       "      <td>2</td>\n",
       "    </tr>\n",
       "    <tr>\n",
       "      <th>29</th>\n",
       "      <td>0</td>\n",
       "      <td>0</td>\n",
       "    </tr>\n",
       "    <tr>\n",
       "      <th>15</th>\n",
       "      <td>0</td>\n",
       "      <td>0</td>\n",
       "    </tr>\n",
       "    <tr>\n",
       "      <th>51</th>\n",
       "      <td>1</td>\n",
       "      <td>1</td>\n",
       "    </tr>\n",
       "    <tr>\n",
       "      <th>118</th>\n",
       "      <td>2</td>\n",
       "      <td>2</td>\n",
       "    </tr>\n",
       "  </tbody>\n",
       "</table>\n",
       "</div>"
      ],
      "text/plain": [
       "     target  predict_naive\n",
       "109       2              2\n",
       "29        0              0\n",
       "15        0              0\n",
       "51        1              1\n",
       "118       2              2"
      ]
     },
     "execution_count": 8,
     "metadata": {},
     "output_type": "execute_result"
    }
   ],
   "source": [
    "X = df.iloc[:,:4]\n",
    "y = df.target\n",
    "X_train, X_test, y_train, y_test = train_test_split(X, y, test_size=0.33, random_state=42)\n",
    "\n",
    "model = GaussianNB()\n",
    "model.fit(X_train,y_train)\n",
    "\n",
    "result = pd.DataFrame(y_test)\n",
    "result['predict_naive'] = list(model.predict(X_test))\n",
    "\n",
    "result.sample(5)"
   ]
  },
  {
   "cell_type": "code",
   "execution_count": 9,
   "metadata": {},
   "outputs": [
    {
     "data": {
      "text/plain": [
       "GaussianNB(priors=[0.2, 0.2, 0.6])"
      ]
     },
     "execution_count": 9,
     "metadata": {},
     "output_type": "execute_result"
    }
   ],
   "source": [
    "#Definindo probabilidade à priori das classes.\n",
    "model2 = GaussianNB(priors=[0.2,0.2,0.6])\n",
    "model2.fit(X_train,y_train)"
   ]
  },
  {
   "cell_type": "code",
   "execution_count": 10,
   "metadata": {},
   "outputs": [],
   "source": [
    "proba = model.predict_proba(X_test)\n",
    "log_proba = model.predict_log_proba(X_test)\n",
    "\n",
    "#Nota: A probabilidade do naive bayes não é muito boa, pois usa a hipótese de independência, \n",
    "#o que importa é qual possui a maior probabilidade."
   ]
  },
  {
   "cell_type": "markdown",
   "metadata": {},
   "source": [
    "Para o **MultinomialNB**, o parâmetro **fit_prior** (default True), especifica se as classes vão possuir probabilidades de acordo com o **dataset** ou uma **distribuição uninforme**.\n",
    "\n",
    "Para o **BernoulliNB**, o parâmetro **fit_prior** também vale. **Binarize** é o **threshold** para um valor virar True ou continuar False. Por padrão é 0.0, ou seja, 0 é false 1 é true.\n",
    "\n",
    "Para os dois, **Alpha**, é o parâmetro de suavização de laplace, default 1.0, 0.0 é sem. [VER FÓRMULA DEPOIS]"
   ]
  },
  {
   "cell_type": "markdown",
   "metadata": {},
   "source": [
    "### Regressão Logística"
   ]
  },
  {
   "cell_type": "markdown",
   "metadata": {},
   "source": [
    "**Parâmetros:** \n",
    "\n",
    "- **penalty** = 'l1' ou 'l2';\n",
    "- **C** = float, inverso da regularização, pequenos valores são regularizações maiores;\n",
    "- **fit_intercept** and **intercept_scaling**, define se vai ter bias e quanto é o valor. Default é True e 1.0;\n",
    "- **class_weight**, dict (pesos customizados) ou balanced (peso proporcional ao dataset) ou None (todos iguais);\n",
    "- **solver** = VER COM O LUCAS | {‘newton-cg’, ‘lbfgs’, ‘liblinear’, ‘sag’, ‘saga’};"
   ]
  },
  {
   "cell_type": "code",
   "execution_count": 11,
   "metadata": {},
   "outputs": [],
   "source": [
    "from sklearn.linear_model import LogisticRegression, SGDClassifier"
   ]
  },
  {
   "cell_type": "code",
   "execution_count": 12,
   "metadata": {},
   "outputs": [
    {
     "data": {
      "text/html": [
       "<div>\n",
       "<style scoped>\n",
       "    .dataframe tbody tr th:only-of-type {\n",
       "        vertical-align: middle;\n",
       "    }\n",
       "\n",
       "    .dataframe tbody tr th {\n",
       "        vertical-align: top;\n",
       "    }\n",
       "\n",
       "    .dataframe thead th {\n",
       "        text-align: right;\n",
       "    }\n",
       "</style>\n",
       "<table border=\"1\" class=\"dataframe\">\n",
       "  <thead>\n",
       "    <tr style=\"text-align: right;\">\n",
       "      <th></th>\n",
       "      <th>target</th>\n",
       "      <th>predict_naive</th>\n",
       "      <th>log_reg</th>\n",
       "    </tr>\n",
       "  </thead>\n",
       "  <tbody>\n",
       "    <tr>\n",
       "      <th>68</th>\n",
       "      <td>1</td>\n",
       "      <td>1</td>\n",
       "      <td>1</td>\n",
       "    </tr>\n",
       "    <tr>\n",
       "      <th>133</th>\n",
       "      <td>2</td>\n",
       "      <td>1</td>\n",
       "      <td>2</td>\n",
       "    </tr>\n",
       "    <tr>\n",
       "      <th>73</th>\n",
       "      <td>1</td>\n",
       "      <td>1</td>\n",
       "      <td>1</td>\n",
       "    </tr>\n",
       "    <tr>\n",
       "      <th>18</th>\n",
       "      <td>0</td>\n",
       "      <td>0</td>\n",
       "      <td>0</td>\n",
       "    </tr>\n",
       "    <tr>\n",
       "      <th>143</th>\n",
       "      <td>2</td>\n",
       "      <td>2</td>\n",
       "      <td>2</td>\n",
       "    </tr>\n",
       "  </tbody>\n",
       "</table>\n",
       "</div>"
      ],
      "text/plain": [
       "     target  predict_naive  log_reg\n",
       "68        1              1        1\n",
       "133       2              1        2\n",
       "73        1              1        1\n",
       "18        0              0        0\n",
       "143       2              2        2"
      ]
     },
     "execution_count": 12,
     "metadata": {},
     "output_type": "execute_result"
    }
   ],
   "source": [
    "log_reg = LogisticRegression(penalty='l2', C=1.0)\n",
    "log_reg.fit(X_train, y_train)\n",
    "\n",
    "result['log_reg'] = list(log_reg.predict(X_test))\n",
    "result.sample(5)"
   ]
  },
  {
   "cell_type": "code",
   "execution_count": 13,
   "metadata": {},
   "outputs": [
    {
     "data": {
      "text/plain": [
       "array([[ 0.37837225,  1.3362905 , -2.08244463, -0.93126854],\n",
       "       [ 0.34937592, -1.44126614,  0.48555836, -1.08172903],\n",
       "       [-1.45856852, -1.43890209,  2.19420366,  2.10495849]])"
      ]
     },
     "execution_count": 13,
     "metadata": {},
     "output_type": "execute_result"
    }
   ],
   "source": [
    "#Peso de cada feature depois de fittado. Tem 3 pois como é um problema multiclasse, é fittado um log reg binário para cada\n",
    "#classe, é 1 ou não, é 2 ou não. \n",
    "\n",
    "log_reg.coef_"
   ]
  },
  {
   "cell_type": "code",
   "execution_count": 14,
   "metadata": {},
   "outputs": [
    {
     "data": {
      "text/html": [
       "<div>\n",
       "<style scoped>\n",
       "    .dataframe tbody tr th:only-of-type {\n",
       "        vertical-align: middle;\n",
       "    }\n",
       "\n",
       "    .dataframe tbody tr th {\n",
       "        vertical-align: top;\n",
       "    }\n",
       "\n",
       "    .dataframe thead th {\n",
       "        text-align: right;\n",
       "    }\n",
       "</style>\n",
       "<table border=\"1\" class=\"dataframe\">\n",
       "  <thead>\n",
       "    <tr style=\"text-align: right;\">\n",
       "      <th></th>\n",
       "      <th>target</th>\n",
       "      <th>predict_naive</th>\n",
       "      <th>log_reg</th>\n",
       "      <th>log_reg_el</th>\n",
       "    </tr>\n",
       "  </thead>\n",
       "  <tbody>\n",
       "    <tr>\n",
       "      <th>29</th>\n",
       "      <td>0</td>\n",
       "      <td>0</td>\n",
       "      <td>0</td>\n",
       "      <td>0</td>\n",
       "    </tr>\n",
       "    <tr>\n",
       "      <th>30</th>\n",
       "      <td>0</td>\n",
       "      <td>0</td>\n",
       "      <td>0</td>\n",
       "      <td>0</td>\n",
       "    </tr>\n",
       "    <tr>\n",
       "      <th>127</th>\n",
       "      <td>2</td>\n",
       "      <td>2</td>\n",
       "      <td>2</td>\n",
       "      <td>2</td>\n",
       "    </tr>\n",
       "    <tr>\n",
       "      <th>142</th>\n",
       "      <td>2</td>\n",
       "      <td>2</td>\n",
       "      <td>2</td>\n",
       "      <td>2</td>\n",
       "    </tr>\n",
       "    <tr>\n",
       "      <th>108</th>\n",
       "      <td>2</td>\n",
       "      <td>2</td>\n",
       "      <td>2</td>\n",
       "      <td>2</td>\n",
       "    </tr>\n",
       "  </tbody>\n",
       "</table>\n",
       "</div>"
      ],
      "text/plain": [
       "     target  predict_naive  log_reg  log_reg_el\n",
       "29        0              0        0           0\n",
       "30        0              0        0           0\n",
       "127       2              2        2           2\n",
       "142       2              2        2           2\n",
       "108       2              2        2           2"
      ]
     },
     "execution_count": 14,
     "metadata": {},
     "output_type": "execute_result"
    }
   ],
   "source": [
    "#Com elastic net\n",
    "\n",
    "el = SGDClassifier(loss='log', penalty='elasticnet', alpha=0.0001, l1_ratio=0.5, tol=0.0001)\n",
    "el.fit(X_train, y_train)\n",
    "\n",
    "result['log_reg_el'] = list(el.predict(X_test))\n",
    "result.sample(5)"
   ]
  },
  {
   "cell_type": "markdown",
   "metadata": {},
   "source": [
    "### Knn\n",
    "\n",
    "- **algorithm:** auto acha o melhor. Pode ser ball_tree, kd_tree ou brute. \n",
    "- **leaf_size:** VER DPS.\n",
    "- **p:** power da distância de Minkowski.\n",
    "- **metrics:** podem ser outras, ver documentação da DistanceMetrics."
   ]
  },
  {
   "cell_type": "code",
   "execution_count": 15,
   "metadata": {},
   "outputs": [],
   "source": [
    "from sklearn.neighbors import KNeighborsClassifier"
   ]
  },
  {
   "cell_type": "code",
   "execution_count": 16,
   "metadata": {},
   "outputs": [
    {
     "data": {
      "text/plain": [
       "KNeighborsClassifier(algorithm='kd_tree', leaf_size=30, metric='minkowski',\n",
       "           metric_params=None, n_jobs=1, n_neighbors=5, p=2,\n",
       "           weights='distance')"
      ]
     },
     "execution_count": 16,
     "metadata": {},
     "output_type": "execute_result"
    }
   ],
   "source": [
    "knn = KNeighborsClassifier(n_neighbors=5, weights='distance', algorithm='kd_tree', leaf_size=30, p=2, metric='minkowski')\n",
    "\n",
    "knn.fit(X_train, y_train)"
   ]
  },
  {
   "cell_type": "code",
   "execution_count": 17,
   "metadata": {},
   "outputs": [
    {
     "data": {
      "text/plain": [
       "(array([[3.81051178, 3.96358424, 3.99624824, 4.03608721, 4.27317212]]),\n",
       " array([[71, 47, 46, 52, 50]], dtype=int64))"
      ]
     },
     "execution_count": 17,
     "metadata": {},
     "output_type": "execute_result"
    }
   ],
   "source": [
    "#Retorna os k vizinhos e a distância.\n",
    "knn.kneighbors([[1,1,1,1]])"
   ]
  },
  {
   "cell_type": "code",
   "execution_count": 18,
   "metadata": {},
   "outputs": [
    {
     "data": {
      "text/html": [
       "<div>\n",
       "<style scoped>\n",
       "    .dataframe tbody tr th:only-of-type {\n",
       "        vertical-align: middle;\n",
       "    }\n",
       "\n",
       "    .dataframe tbody tr th {\n",
       "        vertical-align: top;\n",
       "    }\n",
       "\n",
       "    .dataframe thead th {\n",
       "        text-align: right;\n",
       "    }\n",
       "</style>\n",
       "<table border=\"1\" class=\"dataframe\">\n",
       "  <thead>\n",
       "    <tr style=\"text-align: right;\">\n",
       "      <th></th>\n",
       "      <th>target</th>\n",
       "      <th>predict_naive</th>\n",
       "      <th>log_reg</th>\n",
       "      <th>log_reg_el</th>\n",
       "      <th>knn</th>\n",
       "    </tr>\n",
       "  </thead>\n",
       "  <tbody>\n",
       "    <tr>\n",
       "      <th>128</th>\n",
       "      <td>2</td>\n",
       "      <td>2</td>\n",
       "      <td>2</td>\n",
       "      <td>2</td>\n",
       "      <td>2</td>\n",
       "    </tr>\n",
       "    <tr>\n",
       "      <th>22</th>\n",
       "      <td>0</td>\n",
       "      <td>0</td>\n",
       "      <td>0</td>\n",
       "      <td>0</td>\n",
       "      <td>0</td>\n",
       "    </tr>\n",
       "    <tr>\n",
       "      <th>82</th>\n",
       "      <td>1</td>\n",
       "      <td>1</td>\n",
       "      <td>1</td>\n",
       "      <td>2</td>\n",
       "      <td>1</td>\n",
       "    </tr>\n",
       "    <tr>\n",
       "      <th>30</th>\n",
       "      <td>0</td>\n",
       "      <td>0</td>\n",
       "      <td>0</td>\n",
       "      <td>0</td>\n",
       "      <td>0</td>\n",
       "    </tr>\n",
       "    <tr>\n",
       "      <th>75</th>\n",
       "      <td>1</td>\n",
       "      <td>1</td>\n",
       "      <td>1</td>\n",
       "      <td>2</td>\n",
       "      <td>1</td>\n",
       "    </tr>\n",
       "  </tbody>\n",
       "</table>\n",
       "</div>"
      ],
      "text/plain": [
       "     target  predict_naive  log_reg  log_reg_el  knn\n",
       "128       2              2        2           2    2\n",
       "22        0              0        0           0    0\n",
       "82        1              1        1           2    1\n",
       "30        0              0        0           0    0\n",
       "75        1              1        1           2    1"
      ]
     },
     "execution_count": 18,
     "metadata": {},
     "output_type": "execute_result"
    }
   ],
   "source": [
    "result['knn'] = list(knn.predict(X_test))\n",
    "result.sample(5)"
   ]
  },
  {
   "cell_type": "markdown",
   "metadata": {},
   "source": [
    "### SVM\n",
    "\n",
    "- **C:** 1/alpha, ou seja, quanto menor que 1, permite um svm mais relaxado. É o peso da missclassification na cost func.\n",
    "- **kernel:** ‘linear’, ‘poly’, ‘rbf’, ‘sigmoid’ ou ‘precomputed’.\n",
    "- **degree:** grau do polinomial.\n",
    "- **gamma:** 1/n_features é o padrão do parâmetro do kernel.\n",
    "- **probability:** True para retornar as probabilidades."
   ]
  },
  {
   "cell_type": "code",
   "execution_count": 19,
   "metadata": {},
   "outputs": [],
   "source": [
    "from sklearn.svm import SVC"
   ]
  },
  {
   "cell_type": "code",
   "execution_count": 20,
   "metadata": {},
   "outputs": [
    {
     "data": {
      "text/plain": [
       "SVC(C=1.0, cache_size=200, class_weight=None, coef0=0.0,\n",
       "  decision_function_shape='ovr', degree=3, gamma=0.25, kernel='rbf',\n",
       "  max_iter=-1, probability=True, random_state=None, shrinking=True,\n",
       "  tol=0.001, verbose=False)"
      ]
     },
     "execution_count": 20,
     "metadata": {},
     "output_type": "execute_result"
    }
   ],
   "source": [
    "svm = SVC(C=1.0, kernel='rbf', gamma=0.25, probability=True)\n",
    "\n",
    "svm.fit(X_train, y_train)"
   ]
  },
  {
   "cell_type": "code",
   "execution_count": 21,
   "metadata": {},
   "outputs": [
    {
     "data": {
      "text/html": [
       "<div>\n",
       "<style scoped>\n",
       "    .dataframe tbody tr th:only-of-type {\n",
       "        vertical-align: middle;\n",
       "    }\n",
       "\n",
       "    .dataframe tbody tr th {\n",
       "        vertical-align: top;\n",
       "    }\n",
       "\n",
       "    .dataframe thead th {\n",
       "        text-align: right;\n",
       "    }\n",
       "</style>\n",
       "<table border=\"1\" class=\"dataframe\">\n",
       "  <thead>\n",
       "    <tr style=\"text-align: right;\">\n",
       "      <th></th>\n",
       "      <th>target</th>\n",
       "      <th>predict_naive</th>\n",
       "      <th>log_reg</th>\n",
       "      <th>log_reg_el</th>\n",
       "      <th>knn</th>\n",
       "      <th>svm</th>\n",
       "    </tr>\n",
       "  </thead>\n",
       "  <tbody>\n",
       "    <tr>\n",
       "      <th>26</th>\n",
       "      <td>0</td>\n",
       "      <td>0</td>\n",
       "      <td>0</td>\n",
       "      <td>0</td>\n",
       "      <td>0</td>\n",
       "      <td>0</td>\n",
       "    </tr>\n",
       "    <tr>\n",
       "      <th>108</th>\n",
       "      <td>2</td>\n",
       "      <td>2</td>\n",
       "      <td>2</td>\n",
       "      <td>2</td>\n",
       "      <td>2</td>\n",
       "      <td>2</td>\n",
       "    </tr>\n",
       "    <tr>\n",
       "      <th>51</th>\n",
       "      <td>1</td>\n",
       "      <td>1</td>\n",
       "      <td>1</td>\n",
       "      <td>2</td>\n",
       "      <td>1</td>\n",
       "      <td>1</td>\n",
       "    </tr>\n",
       "    <tr>\n",
       "      <th>56</th>\n",
       "      <td>1</td>\n",
       "      <td>2</td>\n",
       "      <td>1</td>\n",
       "      <td>2</td>\n",
       "      <td>1</td>\n",
       "      <td>1</td>\n",
       "    </tr>\n",
       "    <tr>\n",
       "      <th>29</th>\n",
       "      <td>0</td>\n",
       "      <td>0</td>\n",
       "      <td>0</td>\n",
       "      <td>0</td>\n",
       "      <td>0</td>\n",
       "      <td>0</td>\n",
       "    </tr>\n",
       "  </tbody>\n",
       "</table>\n",
       "</div>"
      ],
      "text/plain": [
       "     target  predict_naive  log_reg  log_reg_el  knn  svm\n",
       "26        0              0        0           0    0    0\n",
       "108       2              2        2           2    2    2\n",
       "51        1              1        1           2    1    1\n",
       "56        1              2        1           2    1    1\n",
       "29        0              0        0           0    0    0"
      ]
     },
     "execution_count": 21,
     "metadata": {},
     "output_type": "execute_result"
    }
   ],
   "source": [
    "result['svm'] = list(svm.predict(X_test))\n",
    "result.sample(5)"
   ]
  },
  {
   "cell_type": "code",
   "execution_count": 22,
   "metadata": {},
   "outputs": [
    {
     "data": {
      "text/plain": [
       "array([[-0.35238517,  0.85238517,  2.5       ]])"
      ]
     },
     "execution_count": 22,
     "metadata": {},
     "output_type": "execute_result"
    }
   ],
   "source": [
    "#Distância ao plano separadore.\n",
    "svm.decision_function([[1,1,1,1]])"
   ]
  },
  {
   "cell_type": "markdown",
   "metadata": {},
   "source": [
    "### Decision Tree\n",
    "\n",
    "- **criterion:** 'gini' ou 'entropy'.\n",
    "- **splitter:** 'best' ou 'random' para o melhor de um sample de tamanho 'max_features' random.\n",
    "- **max_depth:** int que diz a profundidade máxima da árvore. Se None, vai até os nós serem puros ou terem menos de min_samples_split elementos.\n",
    "- **min_samples_split:** número mínimo para splitar um nó (critério de parada do max_depth).\n",
    "- **min_samples_leaf:** número mínimo para um nó poder ser uma folha. Dúvidas: https://stackoverflow.com/questions/46480457/difference-between-min-samples-split-and-min-samples-leaf-in-sklearn-decisiontre\n",
    "- **min_weight_fraction_leaf:** porcentagem de peso (com relação ao peso total do input) para poder ser uma folha.\n",
    "- **max_features:** número máximo de features a serem olhadas'.\n",
    "- **max_leaf_nodes:** número máximo de folhas.\n",
    "- **min_impurity_decrease:** Só splita um nó se a impureza descresceu este valor.\n",
    "- **min_impurity_split:** threshold para splitar um nó, ou seja, se a impureza for menor qu este parâmetro, nem precisas dividir, já ta bom.\n",
    "- **class_weight:** Dicionário com os pesos de cada classe ou 'balanced', pesos são atribuidos com base na proporção da base. Default é 1 para todas as classes."
   ]
  },
  {
   "cell_type": "code",
   "execution_count": 23,
   "metadata": {},
   "outputs": [],
   "source": [
    "from sklearn.tree import DecisionTreeClassifier\n",
    "from sklearn import tree\n",
    "import pydotplus"
   ]
  },
  {
   "cell_type": "code",
   "execution_count": 24,
   "metadata": {},
   "outputs": [
    {
     "data": {
      "text/plain": [
       "DecisionTreeClassifier(class_weight=None, criterion='entropy', max_depth=None,\n",
       "            max_features=None, max_leaf_nodes=None,\n",
       "            min_impurity_decrease=0.0, min_impurity_split=None,\n",
       "            min_samples_leaf=1, min_samples_split=3,\n",
       "            min_weight_fraction_leaf=0.0, presort=False, random_state=None,\n",
       "            splitter='best')"
      ]
     },
     "execution_count": 24,
     "metadata": {},
     "output_type": "execute_result"
    }
   ],
   "source": [
    "tree_clf = DecisionTreeClassifier(criterion='entropy', splitter='best', max_depth=None, min_samples_split=3)\n",
    "\n",
    "tree_clf.fit(X_train, y_train, sample_weight=[1 for x in X_train.iterrows()])"
   ]
  },
  {
   "cell_type": "code",
   "execution_count": 25,
   "metadata": {},
   "outputs": [
    {
     "data": {
      "text/html": [
       "<div>\n",
       "<style scoped>\n",
       "    .dataframe tbody tr th:only-of-type {\n",
       "        vertical-align: middle;\n",
       "    }\n",
       "\n",
       "    .dataframe tbody tr th {\n",
       "        vertical-align: top;\n",
       "    }\n",
       "\n",
       "    .dataframe thead th {\n",
       "        text-align: right;\n",
       "    }\n",
       "</style>\n",
       "<table border=\"1\" class=\"dataframe\">\n",
       "  <thead>\n",
       "    <tr style=\"text-align: right;\">\n",
       "      <th></th>\n",
       "      <th>target</th>\n",
       "      <th>predict_naive</th>\n",
       "      <th>log_reg</th>\n",
       "      <th>log_reg_el</th>\n",
       "      <th>knn</th>\n",
       "      <th>svm</th>\n",
       "      <th>tree</th>\n",
       "    </tr>\n",
       "  </thead>\n",
       "  <tbody>\n",
       "    <tr>\n",
       "      <th>42</th>\n",
       "      <td>0</td>\n",
       "      <td>0</td>\n",
       "      <td>0</td>\n",
       "      <td>0</td>\n",
       "      <td>0</td>\n",
       "      <td>0</td>\n",
       "      <td>0</td>\n",
       "    </tr>\n",
       "    <tr>\n",
       "      <th>12</th>\n",
       "      <td>0</td>\n",
       "      <td>0</td>\n",
       "      <td>0</td>\n",
       "      <td>0</td>\n",
       "      <td>0</td>\n",
       "      <td>0</td>\n",
       "      <td>0</td>\n",
       "    </tr>\n",
       "    <tr>\n",
       "      <th>15</th>\n",
       "      <td>0</td>\n",
       "      <td>0</td>\n",
       "      <td>0</td>\n",
       "      <td>0</td>\n",
       "      <td>0</td>\n",
       "      <td>0</td>\n",
       "      <td>0</td>\n",
       "    </tr>\n",
       "    <tr>\n",
       "      <th>11</th>\n",
       "      <td>0</td>\n",
       "      <td>0</td>\n",
       "      <td>0</td>\n",
       "      <td>0</td>\n",
       "      <td>0</td>\n",
       "      <td>0</td>\n",
       "      <td>0</td>\n",
       "    </tr>\n",
       "    <tr>\n",
       "      <th>143</th>\n",
       "      <td>2</td>\n",
       "      <td>2</td>\n",
       "      <td>2</td>\n",
       "      <td>2</td>\n",
       "      <td>2</td>\n",
       "      <td>2</td>\n",
       "      <td>2</td>\n",
       "    </tr>\n",
       "  </tbody>\n",
       "</table>\n",
       "</div>"
      ],
      "text/plain": [
       "     target  predict_naive  log_reg  log_reg_el  knn  svm  tree\n",
       "42        0              0        0           0    0    0     0\n",
       "12        0              0        0           0    0    0     0\n",
       "15        0              0        0           0    0    0     0\n",
       "11        0              0        0           0    0    0     0\n",
       "143       2              2        2           2    2    2     2"
      ]
     },
     "execution_count": 25,
     "metadata": {},
     "output_type": "execute_result"
    }
   ],
   "source": [
    "result['tree'] = list(tree_clf.predict(X_test))\n",
    "result.sample(5)"
   ]
  },
  {
   "cell_type": "code",
   "execution_count": 26,
   "metadata": {},
   "outputs": [
    {
     "data": {
      "text/plain": [
       "array([0.0174022 , 0.04560307, 0.63319904, 0.30379569])"
      ]
     },
     "execution_count": 26,
     "metadata": {},
     "output_type": "execute_result"
    }
   ],
   "source": [
    "tree_clf.feature_importances_"
   ]
  },
  {
   "cell_type": "code",
   "execution_count": 27,
   "metadata": {},
   "outputs": [],
   "source": [
    "tree.export_graphviz(tree_clf, out_file='tree.dot', feature_names=list(df.columns)[:4], \n",
    "                     class_names=['Setosa','Versicolour', 'Virginica'], filled=True, leaves_parallel=True, rounded=True) \n",
    "#acessar: http://www.webgraphviz.com/ e colar o que tem em tree.dot"
   ]
  },
  {
   "cell_type": "markdown",
   "metadata": {},
   "source": [
    "### Random Forest - A CONFIRMAR"
   ]
  },
  {
   "cell_type": "code",
   "execution_count": 28,
   "metadata": {},
   "outputs": [],
   "source": [
    "#http://scikit-learn.org/stable/modules/ensemble.html\n",
    "from sklearn.ensemble import RandomForestClassifier"
   ]
  },
  {
   "cell_type": "markdown",
   "metadata": {},
   "source": [
    "### Bagging - A CONFIRMAR"
   ]
  },
  {
   "cell_type": "code",
   "execution_count": 29,
   "metadata": {},
   "outputs": [],
   "source": [
    "from sklearn.ensemble import BaggingClassifier"
   ]
  },
  {
   "cell_type": "markdown",
   "metadata": {},
   "source": [
    "### Boosting - A CONFIRMAR"
   ]
  },
  {
   "cell_type": "code",
   "execution_count": 30,
   "metadata": {},
   "outputs": [],
   "source": [
    "from sklearn.ensemble import GradientBoostingClassifier"
   ]
  },
  {
   "cell_type": "markdown",
   "metadata": {},
   "source": [
    "# Regressão"
   ]
  },
  {
   "cell_type": "code",
   "execution_count": 31,
   "metadata": {},
   "outputs": [],
   "source": [
    "from sklearn.linear_model import LinearRegression, Lasso, Ridge, ElasticNet"
   ]
  },
  {
   "cell_type": "code",
   "execution_count": 32,
   "metadata": {},
   "outputs": [],
   "source": [
    "Xl = df.iloc[:,:3]\n",
    "yl = df['Petal Width']\n",
    "Xl_train, Xl_test, yl_train, yl_test = train_test_split(Xl, yl, test_size=0.33, random_state=42)"
   ]
  },
  {
   "cell_type": "code",
   "execution_count": 33,
   "metadata": {},
   "outputs": [],
   "source": [
    "result_l = pd.DataFrame(yl_test)"
   ]
  },
  {
   "cell_type": "code",
   "execution_count": 34,
   "metadata": {},
   "outputs": [
    {
     "data": {
      "text/plain": [
       "array([-0.26112897,  0.25780067,  0.54432941])"
      ]
     },
     "execution_count": 34,
     "metadata": {},
     "output_type": "execute_result"
    }
   ],
   "source": [
    "#Sem regularização\n",
    "lr = LinearRegression(normalize=True, copy_X=True)\n",
    "lr.fit(Xl_train, yl_train)\n",
    "\n",
    "result_l['lr_normal'] = list(lr.predict(Xl_test))\n",
    "\n",
    "lr.coef_"
   ]
  },
  {
   "cell_type": "code",
   "execution_count": 35,
   "metadata": {},
   "outputs": [
    {
     "data": {
      "text/plain": [
       "[-0.10430252822604663, 0.12660120807021039, 0.46198588646856414]"
      ]
     },
     "execution_count": 35,
     "metadata": {},
     "output_type": "execute_result"
    }
   ],
   "source": [
    "#Com l1\n",
    "lr2 = Lasso(alpha=0.001, max_iter=1000, normalize=True, copy_X=True)\n",
    "lr2.fit(Xl_train, yl_train)\n",
    "\n",
    "result_l['lr_l1'] = list(lr2.predict(Xl_test))\n",
    "\n",
    "list(lr2.coef_)"
   ]
  },
  {
   "cell_type": "code",
   "execution_count": 36,
   "metadata": {},
   "outputs": [
    {
     "data": {
      "text/plain": [
       "[-0.25322580701377256, 0.2518762072897433, 0.5399905054938664]"
      ]
     },
     "execution_count": 36,
     "metadata": {},
     "output_type": "execute_result"
    }
   ],
   "source": [
    "#Com l2\n",
    "lr3 = Ridge(alpha=0.001, max_iter=1000, normalize=True, copy_X=True)\n",
    "lr3.fit(Xl_train, yl_train)\n",
    "\n",
    "result_l['lr_l2'] = list(lr3.predict(Xl_test))\n",
    "\n",
    "list(lr3.coef_)"
   ]
  },
  {
   "cell_type": "code",
   "execution_count": 37,
   "metadata": {},
   "outputs": [
    {
     "data": {
      "text/plain": [
       "[0.0, 0.04687718798362693, 0.394871244538662]"
      ]
     },
     "execution_count": 37,
     "metadata": {},
     "output_type": "execute_result"
    }
   ],
   "source": [
    "#Com elastic_net\n",
    "lr4 = ElasticNet(alpha=0.001, l1_ratio=0.5, max_iter=1000, normalize=True, copy_X=True)\n",
    "lr4.fit(Xl_train, yl_train)\n",
    "\n",
    "result_l['lr_elastic'] = list(lr4.predict(Xl_test))\n",
    "\n",
    "list(lr4.coef_)"
   ]
  },
  {
   "cell_type": "code",
   "execution_count": 38,
   "metadata": {},
   "outputs": [
    {
     "data": {
      "text/html": [
       "<div>\n",
       "<style scoped>\n",
       "    .dataframe tbody tr th:only-of-type {\n",
       "        vertical-align: middle;\n",
       "    }\n",
       "\n",
       "    .dataframe tbody tr th {\n",
       "        vertical-align: top;\n",
       "    }\n",
       "\n",
       "    .dataframe thead th {\n",
       "        text-align: right;\n",
       "    }\n",
       "</style>\n",
       "<table border=\"1\" class=\"dataframe\">\n",
       "  <thead>\n",
       "    <tr style=\"text-align: right;\">\n",
       "      <th></th>\n",
       "      <th>Petal Width</th>\n",
       "      <th>lr_normal</th>\n",
       "      <th>lr_l1</th>\n",
       "      <th>lr_l2</th>\n",
       "      <th>lr_elastic</th>\n",
       "    </tr>\n",
       "  </thead>\n",
       "  <tbody>\n",
       "    <tr>\n",
       "      <th>131</th>\n",
       "      <td>2.0</td>\n",
       "      <td>2.284243</td>\n",
       "      <td>2.294360</td>\n",
       "      <td>2.284809</td>\n",
       "      <td>2.275173</td>\n",
       "    </tr>\n",
       "    <tr>\n",
       "      <th>18</th>\n",
       "      <td>0.3</td>\n",
       "      <td>0.300378</td>\n",
       "      <td>0.352492</td>\n",
       "      <td>0.303951</td>\n",
       "      <td>0.419278</td>\n",
       "    </tr>\n",
       "    <tr>\n",
       "      <th>145</th>\n",
       "      <td>2.3</td>\n",
       "      <td>1.738162</td>\n",
       "      <td>1.763859</td>\n",
       "      <td>1.739191</td>\n",
       "      <td>1.763826</td>\n",
       "    </tr>\n",
       "    <tr>\n",
       "      <th>27</th>\n",
       "      <td>0.2</td>\n",
       "      <td>0.244737</td>\n",
       "      <td>0.274266</td>\n",
       "      <td>0.247003</td>\n",
       "      <td>0.326241</td>\n",
       "    </tr>\n",
       "    <tr>\n",
       "      <th>19</th>\n",
       "      <td>0.3</td>\n",
       "      <td>0.348190</td>\n",
       "      <td>0.322676</td>\n",
       "      <td>0.347888</td>\n",
       "      <td>0.340304</td>\n",
       "    </tr>\n",
       "    <tr>\n",
       "      <th>81</th>\n",
       "      <td>1.0</td>\n",
       "      <td>1.080342</td>\n",
       "      <td>1.120083</td>\n",
       "      <td>1.081950</td>\n",
       "      <td>1.143392</td>\n",
       "    </tr>\n",
       "  </tbody>\n",
       "</table>\n",
       "</div>"
      ],
      "text/plain": [
       "     Petal Width  lr_normal     lr_l1     lr_l2  lr_elastic\n",
       "131          2.0   2.284243  2.294360  2.284809    2.275173\n",
       "18           0.3   0.300378  0.352492  0.303951    0.419278\n",
       "145          2.3   1.738162  1.763859  1.739191    1.763826\n",
       "27           0.2   0.244737  0.274266  0.247003    0.326241\n",
       "19           0.3   0.348190  0.322676  0.347888    0.340304\n",
       "81           1.0   1.080342  1.120083  1.081950    1.143392"
      ]
     },
     "execution_count": 38,
     "metadata": {},
     "output_type": "execute_result"
    }
   ],
   "source": [
    "result_l.sample(6)"
   ]
  },
  {
   "cell_type": "markdown",
   "metadata": {},
   "source": [
    "### Outros modelos para regressão"
   ]
  },
  {
   "cell_type": "code",
   "execution_count": 39,
   "metadata": {},
   "outputs": [],
   "source": [
    "from sklearn.tree import DecisionTreeRegressor\n",
    "from sklearn.neighbors import KNeighborsRegressor\n",
    "from sklearn.svm import SVR"
   ]
  },
  {
   "cell_type": "code",
   "execution_count": 40,
   "metadata": {},
   "outputs": [],
   "source": [
    "rtree = DecisionTreeRegressor(criterion='mse')\n",
    "    \n",
    "rtree.fit(Xl_train, yl_train)\n",
    "\n",
    "result_l['tree'] = list(rtree.predict(Xl_test))"
   ]
  },
  {
   "cell_type": "code",
   "execution_count": 41,
   "metadata": {},
   "outputs": [],
   "source": [
    "knnr = KNeighborsRegressor()\n",
    "    \n",
    "knnr.fit(Xl_train, yl_train)\n",
    "\n",
    "result_l['knn_regression'] = list(knnr.predict(Xl_test))"
   ]
  },
  {
   "cell_type": "code",
   "execution_count": 42,
   "metadata": {},
   "outputs": [],
   "source": [
    "svr = SVR()\n",
    "    \n",
    "svr.fit(Xl_train, yl_train)\n",
    "\n",
    "result_l['svr'] = list(svr.predict(Xl_test))"
   ]
  },
  {
   "cell_type": "code",
   "execution_count": 43,
   "metadata": {},
   "outputs": [
    {
     "data": {
      "text/html": [
       "<div>\n",
       "<style scoped>\n",
       "    .dataframe tbody tr th:only-of-type {\n",
       "        vertical-align: middle;\n",
       "    }\n",
       "\n",
       "    .dataframe tbody tr th {\n",
       "        vertical-align: top;\n",
       "    }\n",
       "\n",
       "    .dataframe thead th {\n",
       "        text-align: right;\n",
       "    }\n",
       "</style>\n",
       "<table border=\"1\" class=\"dataframe\">\n",
       "  <thead>\n",
       "    <tr style=\"text-align: right;\">\n",
       "      <th></th>\n",
       "      <th>Petal Width</th>\n",
       "      <th>lr_normal</th>\n",
       "      <th>lr_l1</th>\n",
       "      <th>lr_l2</th>\n",
       "      <th>lr_elastic</th>\n",
       "      <th>tree</th>\n",
       "      <th>knn_regression</th>\n",
       "      <th>svr</th>\n",
       "    </tr>\n",
       "  </thead>\n",
       "  <tbody>\n",
       "    <tr>\n",
       "      <th>42</th>\n",
       "      <td>0.2</td>\n",
       "      <td>0.267434</td>\n",
       "      <td>0.227330</td>\n",
       "      <td>0.266022</td>\n",
       "      <td>0.233203</td>\n",
       "      <td>0.2</td>\n",
       "      <td>0.22</td>\n",
       "      <td>0.198813</td>\n",
       "    </tr>\n",
       "    <tr>\n",
       "      <th>78</th>\n",
       "      <td>1.5</td>\n",
       "      <td>1.514141</td>\n",
       "      <td>1.500821</td>\n",
       "      <td>1.513268</td>\n",
       "      <td>1.482728</td>\n",
       "      <td>1.4</td>\n",
       "      <td>1.48</td>\n",
       "      <td>1.467420</td>\n",
       "    </tr>\n",
       "    <tr>\n",
       "      <th>76</th>\n",
       "      <td>1.4</td>\n",
       "      <td>1.442757</td>\n",
       "      <td>1.543314</td>\n",
       "      <td>1.447497</td>\n",
       "      <td>1.596502</td>\n",
       "      <td>1.8</td>\n",
       "      <td>1.48</td>\n",
       "      <td>1.474583</td>\n",
       "    </tr>\n",
       "    <tr>\n",
       "      <th>65</th>\n",
       "      <td>1.4</td>\n",
       "      <td>1.328478</td>\n",
       "      <td>1.406931</td>\n",
       "      <td>1.332386</td>\n",
       "      <td>1.452616</td>\n",
       "      <td>1.3</td>\n",
       "      <td>1.40</td>\n",
       "      <td>1.308588</td>\n",
       "    </tr>\n",
       "    <tr>\n",
       "      <th>4</th>\n",
       "      <td>0.2</td>\n",
       "      <td>0.268310</td>\n",
       "      <td>0.261588</td>\n",
       "      <td>0.268836</td>\n",
       "      <td>0.291441</td>\n",
       "      <td>0.3</td>\n",
       "      <td>0.36</td>\n",
       "      <td>0.222959</td>\n",
       "    </tr>\n",
       "    <tr>\n",
       "      <th>109</th>\n",
       "      <td>2.5</td>\n",
       "      <td>2.252174</td>\n",
       "      <td>2.203456</td>\n",
       "      <td>2.249695</td>\n",
       "      <td>2.147336</td>\n",
       "      <td>2.2</td>\n",
       "      <td>2.06</td>\n",
       "      <td>2.307354</td>\n",
       "    </tr>\n",
       "  </tbody>\n",
       "</table>\n",
       "</div>"
      ],
      "text/plain": [
       "     Petal Width  lr_normal     lr_l1     lr_l2  lr_elastic  tree  \\\n",
       "42           0.2   0.267434  0.227330  0.266022    0.233203   0.2   \n",
       "78           1.5   1.514141  1.500821  1.513268    1.482728   1.4   \n",
       "76           1.4   1.442757  1.543314  1.447497    1.596502   1.8   \n",
       "65           1.4   1.328478  1.406931  1.332386    1.452616   1.3   \n",
       "4            0.2   0.268310  0.261588  0.268836    0.291441   0.3   \n",
       "109          2.5   2.252174  2.203456  2.249695    2.147336   2.2   \n",
       "\n",
       "     knn_regression       svr  \n",
       "42             0.22  0.198813  \n",
       "78             1.48  1.467420  \n",
       "76             1.48  1.474583  \n",
       "65             1.40  1.308588  \n",
       "4              0.36  0.222959  \n",
       "109            2.06  2.307354  "
      ]
     },
     "execution_count": 43,
     "metadata": {},
     "output_type": "execute_result"
    }
   ],
   "source": [
    "result_l.sample(6)"
   ]
  },
  {
   "cell_type": "markdown",
   "metadata": {},
   "source": [
    "# Agrupamento"
   ]
  },
  {
   "cell_type": "markdown",
   "metadata": {},
   "source": [
    "### K-Means"
   ]
  },
  {
   "cell_type": "code",
   "execution_count": 46,
   "metadata": {},
   "outputs": [],
   "source": [
    "from sklearn.cluster import KMeans"
   ]
  },
  {
   "cell_type": "code",
   "execution_count": 51,
   "metadata": {},
   "outputs": [
    {
     "data": {
      "text/plain": [
       "array([[1, 1, 1, 1],\n",
       "       [2, 2, 2, 2],\n",
       "       [3, 3, 3, 3]])"
      ]
     },
     "execution_count": 51,
     "metadata": {},
     "output_type": "execute_result"
    }
   ],
   "source": [
    "centroid = np.array([[1,1,1,1],[2,2,2,2],[3,3,3,3]])\n",
    "centroid"
   ]
  },
  {
   "cell_type": "code",
   "execution_count": 55,
   "metadata": {},
   "outputs": [
    {
     "data": {
      "text/plain": [
       "array([1, 2, 2, 2, 2, 2, 0, 2, 0, 2])"
      ]
     },
     "execution_count": 55,
     "metadata": {},
     "output_type": "execute_result"
    }
   ],
   "source": [
    "#init: clusteres iniciais\n",
    "#n_init: número de vezes que vai começar um k-means com seed diferente.\n",
    "\n",
    "km_test = KMeans(n_clusters=3, init=centroid, n_init=1, tol=0.0001)\n",
    "km = KMeans(n_clusters=3)\n",
    "\n",
    "km.fit(df.iloc[:,:4])\n",
    "\n",
    "km.predict(df.iloc[:,:4].sample(10))"
   ]
  },
  {
   "cell_type": "code",
   "execution_count": 56,
   "metadata": {},
   "outputs": [
    {
     "data": {
      "text/plain": [
       "array([[6.85      , 3.07368421, 5.74210526, 2.07105263],\n",
       "       [5.006     , 3.418     , 1.464     , 0.244     ],\n",
       "       [5.9016129 , 2.7483871 , 4.39354839, 1.43387097]])"
      ]
     },
     "execution_count": 56,
     "metadata": {},
     "output_type": "execute_result"
    }
   ],
   "source": [
    "km.cluster_centers_"
   ]
  },
  {
   "cell_type": "markdown",
   "metadata": {},
   "source": [
    "### Hieráquico"
   ]
  },
  {
   "cell_type": "code",
   "execution_count": 188,
   "metadata": {},
   "outputs": [],
   "source": [
    "from scipy.cluster.hierarchy import dendrogram, linkage, fcluster\n",
    "from sklearn.cluster import AgglomerativeClustering"
   ]
  },
  {
   "cell_type": "markdown",
   "metadata": {},
   "source": [
    "**Scipy**\n",
    "\n",
    "- **Primeiro argumento** é matriz de distância retornada por _pdist_ ou conjunto de observações.\n",
    "- **method:** single, complete, average ou ward.\n",
    "- **metric:** para calcular a matriz de distância, caso não seja dada. Ver todas em https://docs.scipy.org/doc/scipy/reference/generated/scipy.spatial.distance.pdist.html.\n",
    "- **Retorna** uma matrix no formato de linkage. Usar _fcluster_ ou _dendrogram_ para ver."
   ]
  },
  {
   "cell_type": "code",
   "execution_count": 204,
   "metadata": {},
   "outputs": [
    {
     "data": {
      "image/png": "[encoded data removed]",
      "text/plain": [
       "<Figure size 432x288 with 1 Axes>"
      ]
     },
     "metadata": {},
     "output_type": "display_data"
    }
   ],
   "source": [
    "hc = linkage(df.iloc[:,:4].sample(40), method='single', metric='euclidean')\n",
    "plt.figure()\n",
    "dendrogram(hc)\n",
    "plt.show()"
   ]
  },
  {
   "cell_type": "code",
   "execution_count": 213,
   "metadata": {},
   "outputs": [
    {
     "data": {
      "text/plain": [
       "array([2, 2, 2, 1, 2, 1, 2, 2, 2, 2, 1, 1, 2, 1, 2, 2, 1, 1, 2, 1, 2, 2,\n",
       "       2, 1, 2, 2, 2, 2, 1, 2, 2, 2, 2, 2, 2, 2, 2, 1, 2, 2], dtype=int32)"
      ]
     },
     "execution_count": 213,
     "metadata": {},
     "output_type": "execute_result"
    }
   ],
   "source": [
    "fcluster(hc,t=1.25, criterion ='distance')"
   ]
  },
  {
   "cell_type": "markdown",
   "metadata": {},
   "source": [
    "### DBScan\n",
    "\n",
    "- eps: distância máxima para ser considerado vizinho.\n",
    "- min_samples: número mínimo ou soma de pesos mínima para um ponto ser considerado core point.\n",
    "- metric: http://scikit-learn.org/stable/modules/generated/sklearn.metrics.pairwise.pairwise_distances.html qualquer uma.\n",
    "- algorithm: 'bal_tree', 'kd_tree', 'brute'.\n",
    "- p: power of Minkowski."
   ]
  },
  {
   "cell_type": "code",
   "execution_count": 57,
   "metadata": {},
   "outputs": [],
   "source": [
    "from sklearn.cluster import DBSCAN"
   ]
  },
  {
   "cell_type": "code",
   "execution_count": 96,
   "metadata": {},
   "outputs": [
    {
     "data": {
      "text/plain": [
       "array([ 0,  0,  0,  0,  0, -1, -1,  0, -1,  0], dtype=int64)"
      ]
     },
     "execution_count": 96,
     "metadata": {},
     "output_type": "execute_result"
    }
   ],
   "source": [
    "db = DBSCAN(eps=0.3, min_samples=10, metric='euclidean', algorithm='brute')\n",
    "\n",
    "db.fit_predict(df.iloc[:,:4])[:10]"
   ]
  },
  {
   "cell_type": "code",
   "execution_count": 97,
   "metadata": {},
   "outputs": [
    {
     "data": {
      "text/plain": [
       "array([ 0,  4,  7,  9, 12, 17, 27, 30, 34, 37, 39, 45, 49], dtype=int64)"
      ]
     },
     "execution_count": 97,
     "metadata": {},
     "output_type": "execute_result"
    }
   ],
   "source": [
    "db.core_sample_indices_"
   ]
  },
  {
   "cell_type": "code",
   "execution_count": 98,
   "metadata": {},
   "outputs": [
    {
     "data": {
      "text/plain": [
       "array([-1,  0], dtype=int64)"
      ]
     },
     "execution_count": 98,
     "metadata": {},
     "output_type": "execute_result"
    }
   ],
   "source": [
    "np.unique(db.labels_)"
   ]
  },
  {
   "cell_type": "markdown",
   "metadata": {},
   "source": [
    "### Gaussian Mixture Model\n",
    "\n",
    "- weights_init: que porra é essa.\n",
    "- means_init: média dos componentes.\n",
    "- precisions_init: uma matrix feature x feature para cada componente, sendo o iverso da matrix de covariância."
   ]
  },
  {
   "cell_type": "code",
   "execution_count": 64,
   "metadata": {},
   "outputs": [],
   "source": [
    "from sklearn.mixture import GaussianMixture"
   ]
  },
  {
   "cell_type": "code",
   "execution_count": 168,
   "metadata": {},
   "outputs": [],
   "source": [
    "cov_mat = np.array([[[1,0,0,0],[0,1,0,0],[0,0,1,0],[0,0,0,1]],\n",
    "                    [[1,0,0,0],[0,1,0,0],[0,0,1,0],[0,0,0,1]],\n",
    "                    [[1,0,0,0],[0,1,0,0],[0,0,1,0],[0,0,0,1]]])"
   ]
  },
  {
   "cell_type": "code",
   "execution_count": 169,
   "metadata": {},
   "outputs": [
    {
     "data": {
      "text/plain": [
       "array([2, 1, 1, 2, 2], dtype=int64)"
      ]
     },
     "execution_count": 169,
     "metadata": {},
     "output_type": "execute_result"
    }
   ],
   "source": [
    "gmm = GaussianMixture(n_components=3, covariance_type='full', max_iter=100, n_init=1, weights_init=[0.2,0.2,0.6], \n",
    "                      means_init=[[1,1,1,1],[2,2,2,2],[3,3,3,3]], precisions_init=cov_mat)\n",
    "\n",
    "gmm.fit(df.iloc[:,:4])\n",
    "\n",
    "gmm.predict(df.iloc[:,:4].sample(5))"
   ]
  },
  {
   "cell_type": "code",
   "execution_count": 170,
   "metadata": {},
   "outputs": [
    {
     "data": {
      "text/plain": [
       "array([[0.00000000e+000, 1.31807838e-033, 1.00000000e+000],\n",
       "       [0.00000000e+000, 5.63149713e-109, 1.00000000e+000],\n",
       "       [6.48837748e-001, 3.51162252e-001, 4.47742661e-011],\n",
       "       [0.00000000e+000, 2.23658282e-028, 1.00000000e+000],\n",
       "       [0.00000000e+000, 1.18684562e-106, 1.00000000e+000]])"
      ]
     },
     "execution_count": 170,
     "metadata": {},
     "output_type": "execute_result"
    }
   ],
   "source": [
    "#Dado um ponto, retorna a probabilidade de pertencer a cada um dos n clusteres.\n",
    "gmm.predict_proba(df.iloc[:,:4].sample(5))"
   ]
  },
  {
   "cell_type": "code",
   "execution_count": 175,
   "metadata": {},
   "outputs": [
    {
     "name": "stdout",
     "output_type": "stream",
     "text": [
      "[0.09062    0.24271325 0.66666675] \n",
      "\n",
      " [[4.8967348  3.32444189 1.41159932 0.20010569]\n",
      " [5.04679566 3.45293135 1.48356447 0.26038848]\n",
      " [6.26199979 2.87199997 4.90599956 1.67599983]] \n",
      "\n",
      " [[[ 0.11561732  0.10786095  0.02208479 -0.00511506]\n",
      "  [ 0.10786095  0.16795556  0.02345769 -0.01315353]\n",
      "  [ 0.02208479  0.02345769  0.00634564 -0.00146125]\n",
      "  [-0.00511506 -0.01315353 -0.00146125  0.0014611 ]]\n",
      "\n",
      " [[ 0.11793846  0.08947742  0.01053959  0.01364558]\n",
      "  [ 0.08947742  0.12820108  0.00445017  0.01819795]\n",
      "  [ 0.01053959  0.00445017  0.03674387  0.00703503]\n",
      "  [ 0.01364558  0.01819795  0.00703503  0.01393746]]\n",
      "\n",
      " [[ 0.4349573   0.12093604  0.44882868  0.16548827]\n",
      "  [ 0.12093604  0.10961701  0.1413681   0.07922803]\n",
      "  [ 0.44882868  0.1413681   0.67476646  0.28584458]\n",
      "  [ 0.16548827  0.07922803  0.28584458  0.17862522]]] \n",
      "\n",
      " True\n"
     ]
    }
   ],
   "source": [
    "print(gmm.weights_,'\\n\\n',gmm.means_,'\\n\\n',gmm.covariances_,'\\n\\n',gmm.converged_)"
   ]
  },
  {
   "cell_type": "markdown",
   "metadata": {},
   "source": [
    "## Sampling"
   ]
  },
  {
   "cell_type": "markdown",
   "metadata": {},
   "source": [
    "### Hold-out"
   ]
  },
  {
   "cell_type": "code",
   "execution_count": 221,
   "metadata": {},
   "outputs": [],
   "source": [
    "from sklearn.model_selection import train_test_split"
   ]
  },
  {
   "cell_type": "code",
   "execution_count": 222,
   "metadata": {},
   "outputs": [
    {
     "data": {
      "text/plain": [
       "array([[0, 1],\n",
       "       [2, 3],\n",
       "       [4, 5],\n",
       "       [6, 7],\n",
       "       [8, 9]])"
      ]
     },
     "execution_count": 222,
     "metadata": {},
     "output_type": "execute_result"
    }
   ],
   "source": [
    "X, y = np.arange(10).reshape((5, 2)), list(range(5))\n",
    "X"
   ]
  },
  {
   "cell_type": "code",
   "execution_count": 223,
   "metadata": {},
   "outputs": [
    {
     "data": {
      "text/plain": [
       "[0, 1, 2, 3, 4]"
      ]
     },
     "execution_count": 223,
     "metadata": {},
     "output_type": "execute_result"
    }
   ],
   "source": [
    "y"
   ]
  },
  {
   "cell_type": "code",
   "execution_count": 230,
   "metadata": {},
   "outputs": [
    {
     "name": "stdout",
     "output_type": "stream",
     "text": [
      "[[0 1]\n",
      " [8 9]\n",
      " [2 3]] \n",
      "\n",
      " [0, 4, 1]\n"
     ]
    }
   ],
   "source": [
    "Xtrain, Xtest, ytrain, ytest = train_test_split(X, y, train_size=0.7, test_size=0.3, random_state=10,\n",
    "                                               shuffle=True, stratify=None)\n",
    "\n",
    "print(Xtrain, '\\n\\n', ytrain)"
   ]
  },
  {
   "cell_type": "code",
   "execution_count": 231,
   "metadata": {},
   "outputs": [
    {
     "name": "stdout",
     "output_type": "stream",
     "text": [
      "[[4 5]\n",
      " [6 7]] \n",
      "\n",
      " [2, 3]\n"
     ]
    }
   ],
   "source": [
    "print(Xtest, '\\n\\n', ytest)"
   ]
  },
  {
   "cell_type": "code",
   "execution_count": 232,
   "metadata": {},
   "outputs": [
    {
     "name": "stdout",
     "output_type": "stream",
     "text": [
      "[[0 1]\n",
      " [2 3]\n",
      " [4 5]] \n",
      "\n",
      " [0, 1, 2]\n"
     ]
    }
   ],
   "source": [
    "Xtrain, Xtest, ytrain, ytest = train_test_split(X, y, train_size=3, test_size=2, shuffle=False, stratify=None)\n",
    "\n",
    "print(Xtrain, '\\n\\n', ytrain)"
   ]
  },
  {
   "cell_type": "code",
   "execution_count": 233,
   "metadata": {},
   "outputs": [
    {
     "name": "stdout",
     "output_type": "stream",
     "text": [
      "[[6 7]\n",
      " [8 9]] \n",
      "\n",
      " [3, 4]\n"
     ]
    }
   ],
   "source": [
    "print(Xtest, '\\n\\n', ytest)"
   ]
  },
  {
   "cell_type": "markdown",
   "metadata": {},
   "source": [
    "### K-fold\n",
    "\n",
    "- **groups:** lista com o tamanho do X. Especifíca a divisão dos grupos.\n",
    "- **cv:** pode ser o número de KFolds (no caso de ser classificação ele faz um stratified). Ou ainda, passar o return de um cross-validation generator, como Kfolds.\n",
    "- **scoring:** pode ser http://scikit-learn.org/stable/modules/model_evaluation.html#scoring-parameter ou multiplos, ('metric1', 'metric2').\n",
    "- **leave-one-out** é só n_splits=n."
   ]
  },
  {
   "cell_type": "code",
   "execution_count": 272,
   "metadata": {},
   "outputs": [],
   "source": [
    "from sklearn.model_selection import cross_validate, KFold, cross_val_score"
   ]
  },
  {
   "cell_type": "code",
   "execution_count": 279,
   "metadata": {},
   "outputs": [],
   "source": [
    "kfolds = KFold(n_splits=5, shuffle=False, random_state=None)"
   ]
  },
  {
   "cell_type": "code",
   "execution_count": 280,
   "metadata": {},
   "outputs": [
    {
     "data": {
      "text/plain": [
       "{'fit_time': array([0.        , 0.01562595, 0.        , 0.        , 0.01561689]),\n",
       " 'score_time': array([0., 0., 0., 0., 0.]),\n",
       " 'test_score': array([1.        , 1.        , 0.83333333, 0.93333333, 0.8       ]),\n",
       " 'train_score': array([1., 1., 1., 1., 1.])}"
      ]
     },
     "execution_count": 280,
     "metadata": {},
     "output_type": "execute_result"
    }
   ],
   "source": [
    "cross_validate(estimator=knn, X=df.iloc[:,:4], y=df.target, cv=kfolds, scoring='accuracy', return_train_score=True)"
   ]
  }
 ],
 "metadata": {
  "kernelspec": {
   "display_name": "Python 3",
   "language": "python",
   "name": "python3"
  },
  "language_info": {
   "codemirror_mode": {
    "name": "ipython",
    "version": 3
   },
   "file_extension": ".py",
   "mimetype": "text/x-python",
   "name": "python",
   "nbconvert_exporter": "python",
   "pygments_lexer": "ipython3",
   "version": "3.6.5"
  }
 },
 "nbformat": 4,
 "nbformat_minor": 2
}
